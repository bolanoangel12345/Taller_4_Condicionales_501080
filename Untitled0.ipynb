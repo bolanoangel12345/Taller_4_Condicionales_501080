{
  "nbformat": 4,
  "nbformat_minor": 0,
  "metadata": {
    "colab": {
      "provenance": [],
      "authorship_tag": "ABX9TyNZpuLieGkdrmWn9PJn13FB",
      "include_colab_link": true
    },
    "kernelspec": {
      "name": "python3",
      "display_name": "Python 3"
    },
    "language_info": {
      "name": "python"
    }
  },
  "cells": [
    {
      "cell_type": "markdown",
      "metadata": {
        "id": "view-in-github",
        "colab_type": "text"
      },
      "source": [
        "<a href=\"https://colab.research.google.com/github/bolanoangel12345/Taller_4_Condicionales_501080/blob/main/Untitled0.ipynb\" target=\"_parent\"><img src=\"https://colab.research.google.com/assets/colab-badge.svg\" alt=\"Open In Colab\"/></a>"
      ]
    },
    {
      "cell_type": "markdown",
      "source": [
        "TALLER N°4\n",
        "NOMBRE:ANGEL DAVID BOLAÑO CHICA\n",
        "ID: 501080"
      ],
      "metadata": {
        "id": "C-nd1Xu2u8xs"
      }
    },
    {
      "cell_type": "markdown",
      "source": [
        "1. CALCULADORA DE CALIFICACIONES\n"
      ],
      "metadata": {
        "id": "iasNtOK_vPTD"
      }
    },
    {
      "cell_type": "code",
      "execution_count": 1,
      "metadata": {
        "colab": {
          "base_uri": "https://localhost:8080/"
        },
        "id": "ul6kw6nhuuYJ",
        "outputId": "712ca2e3-5c6f-4033-e658-ca0a791839fb"
      },
      "outputs": [
        {
          "output_type": "stream",
          "name": "stdout",
          "text": [
            "Ingrese la calificación numérica (de 0 a 10): 8\n",
            "El estudiante aprobó.\n"
          ]
        }
      ],
      "source": [
        "calificacion = float(input(\"Ingrese la calificación numérica (de 0 a 10): \"))\n",
        "\n",
        "if calificacion >= 6.0:\n",
        "    print(\"El estudiante aprobó.\")\n",
        "else:\n",
        "    print(\"El estudiante reprobó.\")\n"
      ]
    },
    {
      "cell_type": "markdown",
      "source": [
        "2. VERICAR SI UN NUMERO ES POSITIVO, NEGATIVO O CERO"
      ],
      "metadata": {
        "id": "HPWkhhhYvhV_"
      }
    },
    {
      "cell_type": "code",
      "source": [
        "numero = float(input(\"Ingrese un número: \"))\n",
        "\n",
        "if numero > 0:\n",
        "    print(\"El número es positivo.\")\n",
        "elif numero < 0:\n",
        "    print(\"El número es negativo.\")\n",
        "else:\n",
        "    print(\"El número es cero.\")\n"
      ],
      "metadata": {
        "colab": {
          "base_uri": "https://localhost:8080/"
        },
        "id": "CYrRtA1Yvngb",
        "outputId": "d7c2020f-2a8f-4d0c-c7cf-ba9c9753a3c0"
      },
      "execution_count": 2,
      "outputs": [
        {
          "output_type": "stream",
          "name": "stdout",
          "text": [
            "Ingrese un número: 4\n",
            "El número es positivo.\n"
          ]
        }
      ]
    },
    {
      "cell_type": "markdown",
      "source": [
        "3. VALIDACION DE CONTRASEÑA"
      ],
      "metadata": {
        "id": "6FqTyWOovzsd"
      }
    },
    {
      "cell_type": "code",
      "source": [
        "contrasena = input(\"Ingrese la contraseña: \")\n",
        "\n",
        "if contrasena == \"MESSI10\":\n",
        "    print(\"Contraseña válida.\")\n",
        "else:\n",
        "    print(\"Contraseña incorrecta.\")\n"
      ],
      "metadata": {
        "colab": {
          "base_uri": "https://localhost:8080/"
        },
        "id": "bymuX-a_v281",
        "outputId": "3a555fb2-adc6-403c-d1c6-f51bbf57e60d"
      },
      "execution_count": 3,
      "outputs": [
        {
          "output_type": "stream",
          "name": "stdout",
          "text": [
            "Ingrese la contraseña: MESSI10\n",
            "Contraseña válida.\n"
          ]
        }
      ]
    },
    {
      "cell_type": "markdown",
      "source": [
        "4. DETERMINAR SI UN NUMERO ES PAR O IMPAR"
      ],
      "metadata": {
        "id": "v-uYw0oswAKN"
      }
    },
    {
      "cell_type": "code",
      "source": [
        "numero = int(input(\"Ingrese un número: \"))\n",
        "\n",
        "if numero % 2 == 0:\n",
        "    print(\"El número es par.\")\n",
        "else:\n",
        "    print(\"El número es impar.\")\n"
      ],
      "metadata": {
        "colab": {
          "base_uri": "https://localhost:8080/"
        },
        "id": "UQKZEZm5wEAE",
        "outputId": "bbc98599-a8a9-4338-a2df-1d3b6e49457f"
      },
      "execution_count": 4,
      "outputs": [
        {
          "output_type": "stream",
          "name": "stdout",
          "text": [
            "Ingrese un número: 6\n",
            "El número es par.\n"
          ]
        }
      ]
    },
    {
      "cell_type": "markdown",
      "source": [
        "5. DETERMINAR EL NUMERO MAYOR"
      ],
      "metadata": {
        "id": "1lE6LpYCwKY9"
      }
    },
    {
      "cell_type": "code",
      "source": [
        "numeros = []\n",
        "\n",
        "for i in range(5):\n",
        "    numero = float(input(\"Ingrese un número: \"))\n",
        "    numeros.append(numero)\n",
        "\n",
        "numero_mayor = max(numeros)\n",
        "print(\"El número mayor es:\", numero_mayor)\n",
        "\n"
      ],
      "metadata": {
        "colab": {
          "base_uri": "https://localhost:8080/"
        },
        "id": "N6yCZSnvwO_Q",
        "outputId": "f0779e27-92fd-4dd6-95c8-54e2a3f7069c"
      },
      "execution_count": 5,
      "outputs": [
        {
          "output_type": "stream",
          "name": "stdout",
          "text": [
            "Ingrese un número: 1\n",
            "Ingrese un número: 2\n",
            "Ingrese un número: 3\n",
            "Ingrese un número: 5\n",
            "Ingrese un número: 4\n",
            "El número mayor es: 5.0\n"
          ]
        }
      ]
    },
    {
      "cell_type": "markdown",
      "source": [
        "6. CATEGORIZAR EDADES"
      ],
      "metadata": {
        "id": "o8Awgwz2wdLC"
      }
    },
    {
      "cell_type": "code",
      "source": [
        "edad = int(input(\"Ingrese la edad: \"))\n",
        "\n",
        "if edad >= 0 and edad <= 12:\n",
        "    print(\"Niño\")\n",
        "elif edad >= 13 and edad <= 19:\n",
        "    print(\"Adolescente\")\n",
        "elif edad >= 20 and edad <= 64:\n",
        "    print(\"Adulto\")\n",
        "else:\n",
        "    print(\"Adulto Mayor\")\n"
      ],
      "metadata": {
        "colab": {
          "base_uri": "https://localhost:8080/"
        },
        "id": "tQsOJlJBwg2k",
        "outputId": "ea413368-b433-4508-bc1c-fa88feffe143"
      },
      "execution_count": 6,
      "outputs": [
        {
          "output_type": "stream",
          "name": "stdout",
          "text": [
            "Ingrese la edad: 22\n",
            "Adulto\n"
          ]
        }
      ]
    }
  ]
}